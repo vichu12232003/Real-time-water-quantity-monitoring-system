{
  "cells": [
    {
      "cell_type": "code",
      "execution_count": 71,
      "metadata": {
        "id": "wxn7HXcYmfVW"
      },
      "outputs": [],
      "source": [
        "import numpy as np\n",
        "from sklearn.model_selection import train_test_split, cross_val_score, GridSearchCV\n",
        "from sklearn.ensemble import RandomForestClassifier, StackingClassifier, GradientBoostingClassifier\n",
        "from sklearn.metrics import accuracy_score, classification_report, confusion_matrix\n",
        "from sklearn.preprocessing import StandardScaler\n",
        "from xgboost import XGBClassifier\n",
        "from imblearn.over_sampling import SMOTE\n",
        "from sklearn.svm import SVC\n",
        "from sklearn.preprocessing import PolynomialFeatures"
      ]
    },
    {
      "cell_type": "code",
      "execution_count": 72,
      "metadata": {
        "colab": {
          "base_uri": "https://localhost:8080/",
          "height": 206
        },
        "id": "6M_ISGjdbuQz",
        "outputId": "3ef15fc4-812a-4d50-87e9-44a5285c47f6"
      },
      "outputs": [
        {
          "name": "stdout",
          "output_type": "stream",
          "text": [
            "         ph    Hardness       Solids  Chloramines     Sulfate  Conductivity  \\\n",
            "0  7.080795  204.890456  20791.31898     7.300212  368.516441    564.308654   \n",
            "1  8.099124  224.236259  19909.54173     9.275884  333.775777    418.606213   \n",
            "2  8.316766  214.373394  22018.41744     8.059332  356.886136    363.266516   \n",
            "3  9.092223  181.101509  17978.98634     6.546600  310.135738    398.410813   \n",
            "4  5.584087  188.313324  28748.68774     7.544869  326.678363    280.467916   \n",
            "\n",
            "   Organic_carbon  Trihalomethanes  Turbidity  Potability  \n",
            "0       10.379783        86.990970   2.963135           0  \n",
            "1       16.868637        66.420093   3.055934           0  \n",
            "2       18.436525       100.341674   4.628771           0  \n",
            "3       11.558279        31.997993   4.075075           0  \n",
            "4        8.399735        54.917862   2.559708           0  \n",
            "\n",
            "Columns in dataset: ['ph', 'Hardness', 'Solids', 'Chloramines', 'Sulfate', 'Conductivity', 'Organic_carbon', 'Trihalomethanes', 'Turbidity', 'Potability']\n"
          ]
        }
      ],
      "source": [
        "import pandas as pd\n",
        "\n",
        "file_path = r\"C:\\Users\\vishnuvarthan\\Desktop\\project\\water\\balanced_water_potability1.csv\"\n",
        "data = pd.read_csv(file_path, encoding='utf-8')\n",
        "\n",
        "# Show the first 5 rows\n",
        "print(data.head())\n",
        "\n",
        "# Show all column names\n",
        "print(\"\\nColumns in dataset:\", list(data.columns))\n",
        "\n"
      ]
    },
    {
      "cell_type": "code",
      "execution_count": 73,
      "metadata": {
        "colab": {
          "base_uri": "https://localhost:8080/"
        },
        "id": "qlVS4abhdDS5",
        "outputId": "260f6952-5aaf-4094-a96b-7a1f562f9d02"
      },
      "outputs": [
        {
          "data": {
            "text/plain": [
              "(3342, 10)"
            ]
          },
          "execution_count": 73,
          "metadata": {},
          "output_type": "execute_result"
        }
      ],
      "source": [
        "data.shape"
      ]
    },
    {
      "cell_type": "code",
      "execution_count": 74,
      "metadata": {
        "colab": {
          "base_uri": "https://localhost:8080/"
        },
        "id": "Hs3rKgdK05CH",
        "outputId": "7ec3afdb-dbd0-43a6-f8c4-a0a684c1940e"
      },
      "outputs": [
        {
          "name": "stdout",
          "output_type": "stream",
          "text": [
            "<class 'pandas.core.frame.DataFrame'>\n",
            "RangeIndex: 3342 entries, 0 to 3341\n",
            "Data columns (total 10 columns):\n",
            " #   Column           Non-Null Count  Dtype  \n",
            "---  ------           --------------  -----  \n",
            " 0   ph               3342 non-null   float64\n",
            " 1   Hardness         3342 non-null   float64\n",
            " 2   Solids           3342 non-null   float64\n",
            " 3   Chloramines      3342 non-null   float64\n",
            " 4   Sulfate          3342 non-null   float64\n",
            " 5   Conductivity     3342 non-null   float64\n",
            " 6   Organic_carbon   3342 non-null   float64\n",
            " 7   Trihalomethanes  3342 non-null   float64\n",
            " 8   Turbidity        3342 non-null   float64\n",
            " 9   Potability       3342 non-null   int64  \n",
            "dtypes: float64(9), int64(1)\n",
            "memory usage: 261.2 KB\n"
          ]
        }
      ],
      "source": [
        "data.info()"
      ]
    },
    {
      "cell_type": "code",
      "execution_count": 75,
      "metadata": {
        "colab": {
          "base_uri": "https://localhost:8080/",
          "height": 397
        },
        "id": "au7-zzvQBWHf",
        "outputId": "f29480d6-b22d-49ea-f7a0-b59c6f799507"
      },
      "outputs": [
        {
          "data": {
            "text/plain": [
              "ph                 0\n",
              "Hardness           0\n",
              "Solids             0\n",
              "Chloramines        0\n",
              "Sulfate            0\n",
              "Conductivity       0\n",
              "Organic_carbon     0\n",
              "Trihalomethanes    0\n",
              "Turbidity          0\n",
              "Potability         0\n",
              "dtype: int64"
            ]
          },
          "execution_count": 75,
          "metadata": {},
          "output_type": "execute_result"
        }
      ],
      "source": [
        "data.isnull().sum()"
      ]
    },
    {
      "cell_type": "code",
      "execution_count": 76,
      "metadata": {
        "colab": {
          "base_uri": "https://localhost:8080/"
        },
        "id": "QkJCDhi3CSqu",
        "outputId": "100f72f7-b0c2-4053-d809-62f908904b23"
      },
      "outputs": [
        {
          "name": "stdout",
          "output_type": "stream",
          "text": [
            "0    1671\n",
            "1    1671\n",
            "Name: Potability, dtype: int64\n"
          ]
        }
      ],
      "source": [
        "count_target = data[next((col for col in data.columns if 'potability' in col.lower()), 'Potability')].value_counts()\n",
        "print(count_target)\n"
      ]
    },
    {
      "cell_type": "code",
      "execution_count": 77,
      "metadata": {
        "id": "mlh8_dMSD0dw"
      },
      "outputs": [],
      "source": [
        "data['Log_Hardness'] = np.log1p(data['Hardness'])\n",
        "X = data.drop('Potability', axis=1)\n",
        "poly = PolynomialFeatures(degree=2, interaction_only=True, include_bias=False)\n",
        "poly_features = poly.fit_transform(X)\n",
        "poly_feature_names = poly.get_feature_names_out(X.columns)\n",
        "poly_df = pd.DataFrame(poly_features, columns=poly_feature_names)\n"
      ]
    },
    {
      "cell_type": "code",
      "execution_count": 78,
      "metadata": {
        "id": "ZMkzDB7TJIiP"
      },
      "outputs": [],
      "source": [
        "y = data['Potability']"
      ]
    },
    {
      "cell_type": "code",
      "execution_count": 79,
      "metadata": {
        "id": "jKEdaxSOFOVQ"
      },
      "outputs": [],
      "source": [
        "X_train, X_test, y_train, y_test = train_test_split(poly_df, y, test_size=0.3, random_state=42)"
      ]
    },
    {
      "cell_type": "code",
      "execution_count": 80,
      "metadata": {
        "id": "F0T1vBYqFRp-"
      },
      "outputs": [],
      "source": [
        "smote = SMOTE(random_state=42)\n",
        "X_train_resampled, y_train_resampled = smote.fit_resample(X_train, y_train)"
      ]
    },
    {
      "cell_type": "code",
      "execution_count": 81,
      "metadata": {
        "id": "nNSYs__YRKGz"
      },
      "outputs": [],
      "source": [
        "estimators = [\n",
        "    ('rf', RandomForestClassifier(n_estimators=200, random_state=42)),\n",
        "    ('xgb', XGBClassifier(use_label_encoder=False, eval_metric='logloss', random_state=42)),\n",
        "    ('svc', SVC(probability=True, class_weight='balanced', random_state=42))\n",
        "]\n",
        "stacking_model = StackingClassifier(estimators=estimators, final_estimator=GradientBoostingClassifier())"
      ]
    },
    {
      "cell_type": "code",
      "execution_count": 82,
      "metadata": {
        "colab": {
          "base_uri": "https://localhost:8080/",
          "height": 596
        },
        "id": "TQOGll2RRQ23",
        "outputId": "5a542ae1-3438-4374-85ec-ae793a205914"
      },
      "outputs": [
        {
          "name": "stderr",
          "output_type": "stream",
          "text": [
            "c:\\Users\\vishnuvarthan\\Desktop\\project\\water\\.venv\\lib\\site-packages\\xgboost\\core.py:158: UserWarning: [18:36:49] WARNING: C:\\buildkite-agent\\builds\\buildkite-windows-cpu-autoscaling-group-i-08cbc0333d8d4aae1-1\\xgboost\\xgboost-ci-windows\\src\\learner.cc:740: \n",
            "Parameters: { \"use_label_encoder\" } are not used.\n",
            "\n",
            "  warnings.warn(smsg, UserWarning)\n",
            "c:\\Users\\vishnuvarthan\\Desktop\\project\\water\\.venv\\lib\\site-packages\\xgboost\\core.py:158: UserWarning: [18:37:00] WARNING: C:\\buildkite-agent\\builds\\buildkite-windows-cpu-autoscaling-group-i-08cbc0333d8d4aae1-1\\xgboost\\xgboost-ci-windows\\src\\learner.cc:740: \n",
            "Parameters: { \"use_label_encoder\" } are not used.\n",
            "\n",
            "  warnings.warn(smsg, UserWarning)\n",
            "c:\\Users\\vishnuvarthan\\Desktop\\project\\water\\.venv\\lib\\site-packages\\xgboost\\core.py:158: UserWarning: [18:37:00] WARNING: C:\\buildkite-agent\\builds\\buildkite-windows-cpu-autoscaling-group-i-08cbc0333d8d4aae1-1\\xgboost\\xgboost-ci-windows\\src\\learner.cc:740: \n",
            "Parameters: { \"use_label_encoder\" } are not used.\n",
            "\n",
            "  warnings.warn(smsg, UserWarning)\n",
            "c:\\Users\\vishnuvarthan\\Desktop\\project\\water\\.venv\\lib\\site-packages\\xgboost\\core.py:158: UserWarning: [18:37:01] WARNING: C:\\buildkite-agent\\builds\\buildkite-windows-cpu-autoscaling-group-i-08cbc0333d8d4aae1-1\\xgboost\\xgboost-ci-windows\\src\\learner.cc:740: \n",
            "Parameters: { \"use_label_encoder\" } are not used.\n",
            "\n",
            "  warnings.warn(smsg, UserWarning)\n",
            "c:\\Users\\vishnuvarthan\\Desktop\\project\\water\\.venv\\lib\\site-packages\\xgboost\\core.py:158: UserWarning: [18:37:01] WARNING: C:\\buildkite-agent\\builds\\buildkite-windows-cpu-autoscaling-group-i-08cbc0333d8d4aae1-1\\xgboost\\xgboost-ci-windows\\src\\learner.cc:740: \n",
            "Parameters: { \"use_label_encoder\" } are not used.\n",
            "\n",
            "  warnings.warn(smsg, UserWarning)\n",
            "c:\\Users\\vishnuvarthan\\Desktop\\project\\water\\.venv\\lib\\site-packages\\xgboost\\core.py:158: UserWarning: [18:37:01] WARNING: C:\\buildkite-agent\\builds\\buildkite-windows-cpu-autoscaling-group-i-08cbc0333d8d4aae1-1\\xgboost\\xgboost-ci-windows\\src\\learner.cc:740: \n",
            "Parameters: { \"use_label_encoder\" } are not used.\n",
            "\n",
            "  warnings.warn(smsg, UserWarning)\n"
          ]
        },
        {
          "data": {
            "text/plain": [
              "StackingClassifier(estimators=[('rf',\n",
              "                                RandomForestClassifier(n_estimators=200,\n",
              "                                                       random_state=42)),\n",
              "                               ('xgb',\n",
              "                                XGBClassifier(base_score=None, booster=None,\n",
              "                                              callbacks=None,\n",
              "                                              colsample_bylevel=None,\n",
              "                                              colsample_bynode=None,\n",
              "                                              colsample_bytree=None,\n",
              "                                              device=None,\n",
              "                                              early_stopping_rounds=None,\n",
              "                                              enable_categorical=False,\n",
              "                                              eval_metric='logloss',\n",
              "                                              feature_types=None, gamma=None,\n",
              "                                              grow_po...\n",
              "                                              max_cat_threshold=None,\n",
              "                                              max_cat_to_onehot=None,\n",
              "                                              max_delta_step=None,\n",
              "                                              max_depth=None, max_leaves=None,\n",
              "                                              min_child_weight=None,\n",
              "                                              missing=nan,\n",
              "                                              monotone_constraints=None,\n",
              "                                              multi_strategy=None,\n",
              "                                              n_estimators=None, n_jobs=None,\n",
              "                                              num_parallel_tree=None,\n",
              "                                              random_state=42, ...)),\n",
              "                               ('svc',\n",
              "                                SVC(class_weight='balanced', probability=True,\n",
              "                                    random_state=42))],\n",
              "                   final_estimator=GradientBoostingClassifier())"
            ]
          },
          "execution_count": 82,
          "metadata": {},
          "output_type": "execute_result"
        }
      ],
      "source": [
        "stacking_model.fit(X_train_resampled, y_train_resampled)"
      ]
    },
    {
      "cell_type": "code",
      "execution_count": 83,
      "metadata": {
        "id": "kQlSQYpxRnY6"
      },
      "outputs": [],
      "source": [
        "y_pred_stacking = stacking_model.predict(X_test)\n"
      ]
    },
    {
      "cell_type": "code",
      "execution_count": 84,
      "metadata": {
        "colab": {
          "base_uri": "https://localhost:8080/"
        },
        "id": "pqAqq4bjVMNB",
        "outputId": "2176bfa1-25fd-483f-e970-80d50b983bdc"
      },
      "outputs": [
        {
          "name": "stdout",
          "output_type": "stream",
          "text": [
            "Stacking Model Accuracy: 0.6949152542372882\n",
            "Confusion Matrix (Stacking):\n",
            " [[399 110]\n",
            " [196 298]]\n",
            "Classification Report (Stacking):\n",
            "               precision    recall  f1-score   support\n",
            "\n",
            "           0       0.67      0.78      0.72       509\n",
            "           1       0.73      0.60      0.66       494\n",
            "\n",
            "    accuracy                           0.69      1003\n",
            "   macro avg       0.70      0.69      0.69      1003\n",
            "weighted avg       0.70      0.69      0.69      1003\n",
            "\n"
          ]
        }
      ],
      "source": [
        "print(\"Stacking Model Accuracy:\", accuracy_score(y_test, y_pred_stacking))\n",
        "print(\"Confusion Matrix (Stacking):\\n\", confusion_matrix(y_test, y_pred_stacking))\n",
        "print(\"Classification Report (Stacking):\\n\", classification_report(y_test, y_pred_stacking))"
      ]
    },
    {
      "cell_type": "code",
      "execution_count": null,
      "metadata": {
        "id": "UcTeVQZ1V1MG"
      },
      "outputs": [],
      "source": []
    }
  ],
  "metadata": {
    "colab": {
      "provenance": []
    },
    "kernelspec": {
      "display_name": ".venv",
      "language": "python",
      "name": "python3"
    },
    "language_info": {
      "codemirror_mode": {
        "name": "ipython",
        "version": 3
      },
      "file_extension": ".py",
      "mimetype": "text/x-python",
      "name": "python",
      "nbconvert_exporter": "python",
      "pygments_lexer": "ipython3",
      "version": "3.8.0"
    }
  },
  "nbformat": 4,
  "nbformat_minor": 0
}
